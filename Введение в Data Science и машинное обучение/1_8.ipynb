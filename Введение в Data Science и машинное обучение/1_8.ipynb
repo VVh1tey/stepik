{
 "cells": [
  {
   "attachments": {},
   "cell_type": "markdown",
   "metadata": {},
   "source": [
    "**1_8**"
   ]
  },
  {
   "attachments": {},
   "cell_type": "markdown",
   "metadata": {},
   "source": [
    "**1_8_1**\n",
    "Любым удобным для вас способом создайте dataframe c именем my_data, в котором две колонки c именами (type - строки, value - целые числа) и четыре наблюдения в каждой колонке:\n",
    "\n",
    "\n",
    "type value\\\n",
    "A    10\n",
    "\n",
    "A    14\n",
    "\n",
    "B    12\n",
    "\n",
    "B    23"
   ]
  },
  {
   "cell_type": "code",
   "execution_count": null,
   "metadata": {},
   "outputs": [],
   "source": [
    "import pandas as pd\n",
    "my_data = pd.DataFrame.from_dict({'type':['A','A','B','B'], 'value':[10,14,12,23]})"
   ]
  },
  {
   "attachments": {},
   "cell_type": "markdown",
   "metadata": {},
   "source": [
    "**1_8_2**\n",
    "Особенно важный навык при работе с данными - это умение быстро и эффективно отбирать нужные вам колонки или строки.\n",
    "\n",
    "Начнем с простого, в dataframe с именем my_stat сохранено 20 строк и четыре колонки (V1, V2, V3, V4):\n",
    "\n",
    "В переменную с именем subset_1 сохраните только первые 10 строк и только 1 и 3 колонку.\n",
    "В переменную с именем subset_2 сохраните все строки кроме 1 и 5 и только 2 и 4 колонку.\n",
    "\n",
    "Помните, что нумерация индексов строк и колонок начинается с 0.\n",
    "\n",
    "Обратите внимание, получившиеся subset_1 и subset_2 - тоже должны быть dataframe.\n",
    "\n",
    "Вы можете скачать набор данных, которые нам также пригодятся в следующих заданиях,  и потренироваться у себя на компьютере. Чтобы считать данные при помощи pandas, используйте функцию read_csv.\n"
   ]
  },
  {
   "cell_type": "code",
   "execution_count": null,
   "metadata": {},
   "outputs": [],
   "source": [
    "import pandas as pd    \n",
    "# переменная my_stat уже создана\n",
    "subset_1 = my_stat.iloc[:10, [0,2]]\n",
    "subset_2 = my_stat.drop([0, 4]).iloc[:, [1, 3]]"
   ]
  },
  {
   "attachments": {},
   "cell_type": "markdown",
   "metadata": {},
   "source": [
    "**1_8_3**\n",
    "Теперь потренируемся отбирать нужные нам наблюдения (строки), соответствующие некому условию. В dataframe с именем my_stat четыре колонки V1, V2, V3, V4:\n",
    "\n",
    "В переменную subset_1 сохраните только те наблюдения, у которых значения переменной V1  строго больше 0, и значение переменной V3  равняется 'A'.\n",
    "\n",
    "В переменную  subset_2  сохраните только те наблюдения, у которых значения переменной V2  не равняются 10, или значения переменной V4 больше или равно 1.\n",
    "\n",
    "Как и в предыдущей задаче результат фильтрации - это тоже dataframe.\n",
    "\n",
    "Фильтрацию данных можно осуществить разными способами, например так или так."
   ]
  },
  {
   "cell_type": "code",
   "execution_count": null,
   "metadata": {},
   "outputs": [],
   "source": [
    "import pandas as pd    \n",
    "# переменная my_stat уже создана\n",
    "subset_1 = my_stat.query(\"V1 > 0 & V3 == 'A'\")\n",
    "subset_2 = my_stat.query(\"V2 != 10 | V4 >= 1\")\n"
   ]
  },
  {
   "attachments": {},
   "cell_type": "markdown",
   "metadata": {},
   "source": [
    "**1_8_4**\n",
    "Теперь давайте преобразуем наши данные. В переменной my_stat лежат данные с которыми вам необходимо проделать следующее дейтвие. В этих данных (my_stat) создайте две новые переменных:\n",
    "\n",
    "V5 = V1 + V4\n",
    "\n",
    "V6 = натуральный логарифм переменной V2"
   ]
  },
  {
   "cell_type": "code",
   "execution_count": null,
   "metadata": {},
   "outputs": [],
   "source": [
    "import pandas as pd    \n",
    "# переменная my_stat уже создана\n",
    "my_stat['V5'] = my_stat['V1'] + my_stat['V4'] \n",
    "my_stat['V6'] = np.log(my_stat['V2'] )"
   ]
  },
  {
   "attachments": {},
   "cell_type": "markdown",
   "metadata": {},
   "source": [
    "**1_8_5**\n",
    "Переменные V1, V2  ... такие имена никуда не годятся. С такими названиями легко запутаться в собственных данных и в результате ошибиться в расчетах.\n",
    "\n",
    "Переименуйте колонки в данных  my_stat следующим образом:\n",
    "\n",
    "V1 -> session_value\n",
    "\n",
    "V2 -> group\n",
    "\n",
    "V3 -> time\n",
    "\n",
    "V4 -> n_users"
   ]
  },
  {
   "cell_type": "code",
   "execution_count": null,
   "metadata": {},
   "outputs": [],
   "source": [
    "import pandas as pd    \n",
    "# переменная my_stat уже создана\n",
    "my_stat = my_stat.rename(columns={'V1':'session_value', 'V2':'group', 'V3':'time', 'V4':'n_users'})"
   ]
  },
  {
   "attachments": {},
   "cell_type": "markdown",
   "metadata": {},
   "source": [
    "**1_8_6**\n",
    "В dataframe с именем my_stat сохранены данные с 4 колонками: session_value, group, time, n_users.  \n",
    "\n",
    "В переменной session_value замените все пропущенные значения на нули.\n",
    "\n",
    "В переменной n_users замените все отрицательные значения на медианное значение переменной n_users (без учета отрицательных значений, разумеется).\n",
    "\n",
    "Как получить медиану переменной n_users без учета отрицательных значений? Если не придумали решения, подсказка - ищите один из возможных ответов в задачах, которые мы уже решили.\n",
    "\n",
    "Данные для тренировки."
   ]
  },
  {
   "cell_type": "code",
   "execution_count": null,
   "metadata": {},
   "outputs": [],
   "source": [
    "import pandas as pd    \n",
    "# переменная my_stat уже создана\n",
    "#Замена пропущенных на нули\n",
    "my_stat['session_value'] = my_stat['session_value'].fillna(0)\n",
    "\n",
    "#Считаем медиану, заменяем значения\n",
    "median_n_users = my_stat.loc[my_stat['n_users'] >= 0, 'n_users'].median()\n",
    "my_stat.loc[my_stat['n_users'] < 0, 'n_users'] = median_n_users"
   ]
  },
  {
   "attachments": {},
   "cell_type": "markdown",
   "metadata": {},
   "source": [
    "**1_8_7**\n",
    "Чуть не забыли, никакой анализ данных не обходится без агрегации наблюдений. Напомню, в pandas с этим нам поможет связка  groupby + некоторое преобразование. Например:\n",
    "\n",
    "число наблюдений в каждой группе\\\n",
    "df.groupby('group_var').count()\\\n",
    "Для того, что бы сгруппировать данные по нескольким переменным, используем список с нужными именами:\n",
    "\n",
    "df.groupby(['group_var_1', 'group_var_2']).count()\\\n",
    "Обратите внимание, что при такой записи группирующие переменные станут индексами в итоговом dataframe, изучите справку по groupby, чтобы разобраться со всеми тонкостями группировки данных. Также функция count() применится ко всем колонкам, что не всегда является желанным результатом. Чтобы применить функцию только к нужной колонке в данных, можно использовать связку  groupby() + agg()\\\n",
    "\n",
    "my_stat.groupby('group').agg({'n_users': 'count'})\\\n",
    "В этой задаче для данных my_stat рассчитайте среднее значение переменной session_value для каждой группы (переменная group), в получившемся dataframe  переменная group не должна превратиться в индекс. Также переименуйте колонку со средним значением session_value в mean_session_value.\\\n",
    "\n",
    "Получившийся результат сохраните в dataframe с именем mean_session_value_data."
   ]
  },
  {
   "cell_type": "code",
   "execution_count": null,
   "metadata": {},
   "outputs": [],
   "source": [
    "import pandas as pd\n",
    "# переменная my_stat уже создана\n",
    "\n",
    "mean_session_value_data = my_stat.groupby('group')['session_value'].agg(mean_session_value='mean').reset_index()"
   ]
  }
 ],
 "metadata": {
  "language_info": {
   "name": "python"
  },
  "orig_nbformat": 4
 },
 "nbformat": 4,
 "nbformat_minor": 2
}
